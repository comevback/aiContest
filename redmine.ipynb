{
 "cells": [
  {
   "cell_type": "code",
   "execution_count": 9,
   "id": "72da6b8f",
   "metadata": {},
   "outputs": [],
   "source": [
    "import requests\n",
    "import json\n",
    "import google.generativeai as genai\n",
    "from google.generativeai import types as gt\n",
    "import os\n",
    "from dotenv import load_dotenv\n",
    "\n",
    "load_dotenv()\n",
    "\n",
    "baseUrl = \"http://localhost:3000\"\n",
    "url = \"http://localhost:3000/issues.json?project_id=test-project\"\n",
    "headers = {\n",
    "    \"X-Redmine-API-Key\": \"7860f7b5a6597577420d79d87d584f06d17f1c95\"\n",
    "}"
   ]
  },
  {
   "cell_type": "code",
   "execution_count": 10,
   "id": "f10f86fe",
   "metadata": {},
   "outputs": [],
   "source": [
    "# 1. 拉取 Redmine 工单\n",
    "def redmine_get_projects(api_key, url_base=\"http://localhost:3000\"):\n",
    "    url =  f\"{url_base}/projects.json\"\n",
    "    headers = {\"X-Redmine-API-Key\": api_key}\n",
    "    resp = requests.get(url, headers=headers)\n",
    "    resp.raise_for_status()\n",
    "    return resp.json()\n",
    "\n",
    "def redmine_get_issues(api_key, project_id, url_base=\"http://localhost:3000\"):\n",
    "    url = f\"{url_base}/issues.json?project_id={project_id}\"\n",
    "    headers = {\"X-Redmine-API-Key\": api_key}\n",
    "    resp = requests.get(url, headers=headers)\n",
    "    resp.raise_for_status()\n",
    "    return resp.json()[\"issues\"]\n",
    "\n",
    "# 2. 格式化工单列表为字符串\n",
    "def format_redmine_issues_to_str(issues):\n",
    "    lines = []\n",
    "    for i in issues:\n",
    "        subject = i.get(\"subject\", \"无标题\")\n",
    "        status = i.get(\"status\", {}).get(\"name\", \"未知状态\")\n",
    "        priority = i.get(\"priority\", {}).get(\"name\", \"无优先级\")\n",
    "        assignee = (i.get(\"assigned_to\") or {}).get(\"name\", \"未分配\")\n",
    "        author = (i.get(\"author\") or {}).get(\"name\", \"未知作者\")\n",
    "        start_date = i.get(\"start_date\", \"无开始日期\")\n",
    "        due_date = i.get(\"due_date\", \"无截止日期\")\n",
    "        created_on = i.get(\"created_on\", \"未知创建时间\")\n",
    "        updated_on = i.get(\"updated_on\", \"未知更新时间\")\n",
    "        desc = i.get(\"description\", \"无描述\")\n",
    "        lines.append(\n",
    "            f\"{subject} | 状态: {status} | 优先级: {priority} | 负责人: {assignee} | 作者: {author} | 开始: {start_date} | 截止: {due_date} | 创建: {created_on} | 更新: {updated_on} | 描述: {desc[:20]}...\"\n",
    "        )\n",
    "    return \"\\n\".join(lines)\n",
    "\n",
    "# 通过comment反馈结果\n",
    "def write_to_comment(id, redmine_api_key, url, response):\n",
    "    issue_id = id\n",
    "    comment = \"AI分析\" + response\n",
    "\n",
    "    url = f\"{url}/issues/{issue_id}.json\"\n",
    "    headers = {\n",
    "        \"X-Redmine-API-Key\": redmine_api_key,\n",
    "        \"Content-Type\": \"application/json; charset=utf-8\"\n",
    "    }\n",
    "    data = {\n",
    "        \"issue\": {\n",
    "            \"notes\": comment\n",
    "        }\n",
    "    }\n",
    "\n",
    "    response = requests.put(\n",
    "        url,\n",
    "        data=json.dumps(data, ensure_ascii=False).encode(\"utf-8\"),\n",
    "        headers=headers\n",
    "    )\n",
    "    print(response.status_code)\n",
    "    if response.headers.get(\"Content-Type\", \"\").startswith(\"application/json\"):\n",
    "        print(response.json())\n",
    "    else:\n",
    "        print(\"不是JSON，原始内容如上\")\n",
    "\n",
    "\n",
    "# 通过wiki反映结果\n",
    "def upsert_wiki_page(base_url, project_identifier, title, text, api_key, comment=\"\"):\n",
    "    from urllib.parse import quote\n",
    "    url = f\"{base_url}/projects/{project_identifier}/wiki/{quote(title)}.json\"\n",
    "    headers = {\n",
    "        \"X-Redmine-API-Key\": api_key,\n",
    "        \"Content-Type\": \"application/json; charset=utf-8\",\n",
    "        \"Accept\": \"application/json\",\n",
    "    }\n",
    "    payload = {\"wiki_page\": {\"text\": text, \"comments\": comment}}\n",
    "    r = requests.put(url, data=json.dumps(payload, ensure_ascii=False).encode(\"utf-8\"), headers=headers)\n",
    "    print(\"PUT:\", r.status_code, r.text or \"<no body>\")\n",
    "\n",
    "    g = requests.get(url, headers=headers)\n",
    "    print(\"GET:\", g.status_code)\n",
    "    if g.ok and g.headers.get(\"Content-Type\",\"\").startswith(\"application/json\"):\n",
    "        page = g.json().get(\"wiki_page\", {})\n",
    "        return {\n",
    "            \"ok\": True,\n",
    "            \"title\": page.get(\"title\", title),\n",
    "            \"version\": page.get(\"version\"),\n",
    "            \"browser_url\": f\"{base_url}/projects/{project_identifier}/wiki/{quote(title)}\"\n",
    "        }\n",
    "    else:\n",
    "        return {\"ok\": False, \"status\": g.status_code, \"body\": g.text}"
   ]
  },
  {
   "cell_type": "code",
   "execution_count": 12,
   "id": "a0da9a87",
   "metadata": {},
   "outputs": [
    {
     "ename": "NameError",
     "evalue": "name 'REDMINE_API_KEY' is not defined",
     "output_type": "error",
     "traceback": [
      "\u001b[1;31m---------------------------------------------------------------------------\u001b[0m",
      "\u001b[1;31mNameError\u001b[0m                                 Traceback (most recent call last)",
      "Cell \u001b[1;32mIn[12], line 1\u001b[0m\n\u001b[1;32m----> 1\u001b[0m res \u001b[38;5;241m=\u001b[39m redmine_get_projects(api_key\u001b[38;5;241m=\u001b[39m\u001b[43mREDMINE_API_KEY\u001b[49m)\n\u001b[0;32m      2\u001b[0m \u001b[38;5;28mprint\u001b[39m (res)   \n",
      "\u001b[1;31mNameError\u001b[0m: name 'REDMINE_API_KEY' is not defined"
     ]
    }
   ],
   "source": [
    "res = redmine_get_projects(api_key=REDMINE_API_KEY)\n",
    "print (res)   "
   ]
  },
  {
   "cell_type": "code",
   "execution_count": 13,
   "id": "bf72dc40",
   "metadata": {},
   "outputs": [
    {
     "ename": "NameError",
     "evalue": "name 'REDMINE_API_KEY' is not defined",
     "output_type": "error",
     "traceback": [
      "\u001b[1;31m---------------------------------------------------------------------------\u001b[0m",
      "\u001b[1;31mNameError\u001b[0m                                 Traceback (most recent call last)",
      "Cell \u001b[1;32mIn[13], line 2\u001b[0m\n\u001b[0;32m      1\u001b[0m \u001b[38;5;66;03m# 3. 获取 Redmine 工单并格式化\u001b[39;00m\n\u001b[1;32m----> 2\u001b[0m issues \u001b[38;5;241m=\u001b[39m redmine_get_issues(\u001b[43mREDMINE_API_KEY\u001b[49m, REDMINE_PROJECT_ID)\n\u001b[0;32m      3\u001b[0m issues_str \u001b[38;5;241m=\u001b[39m format_redmine_issues_to_str(issues)\n\u001b[0;32m      4\u001b[0m \u001b[38;5;28mprint\u001b[39m(\u001b[38;5;124m\"\u001b[39m\u001b[38;5;124mFormatted Redmine issues:\u001b[39m\u001b[38;5;124m\"\u001b[39m)\n",
      "\u001b[1;31mNameError\u001b[0m: name 'REDMINE_API_KEY' is not defined"
     ]
    }
   ],
   "source": [
    "# 3. 获取 Redmine 工单并格式化\n",
    "issues = redmine_get_issues(REDMINE_API_KEY, REDMINE_PROJECT_ID)\n",
    "issues_str = format_redmine_issues_to_str(issues)\n",
    "print(\"Formatted Redmine issues:\")\n",
    "print(issues_str)"
   ]
  },
  {
   "cell_type": "code",
   "execution_count": null,
   "id": "884b8844",
   "metadata": {},
   "outputs": [],
   "source": [
    "# 5. 调用 Gemini 做 Redmine 工单分析\n",
    "genai.configure(api_key=GEMINI_API_KEY)\n",
    "\n",
    "prompt = (\n",
    "    \"你是资深项目管理顾问，请根据以下 Redmine 工单列表，输出结构化的分析建议。\\n\"\n",
    "    \"请严格按照如下格式返回：\\n\"\n",
    "    \"项目建议：...\\n\"\n",
    "    \"排期管理建议：...\\n\"\n",
    "    \"人员分配建议：...\\n\"\n",
    "    \"要求：\\n\"\n",
    "    \"- 项目建议：针对整体项目进展、风险、优先级等提出建议。\\n\"\n",
    "    \"- 排期管理建议：对任务截止时间、进度延误、合理性等给出建议。\\n\"\n",
    "    \"- 人员分配建议：对当前人员分配合理性、负载、改进方向等给出建议。\\n\"\n",
    "    \"\\n以下是 Redmine 工单列表：\\n\\n\"\n",
    "    + issues_str\n",
    ")\n",
    "\n",
    "model = genai.GenerativeModel(\n",
    "    model_name=\"gemini-2.5-flash\",\n",
    "    system_instruction=(\n",
    "        \"你是资深项目管理顾问。基于输入的 Redmine 工单做可执行、可落地的建议；\"\n",
    "        \"突出优先级、风险与排期，避免空话。\"\n",
    "    ),\n",
    "    generation_config=gt.GenerationConfig(\n",
    "        temperature=0.3,\n",
    "        #response_mime_type=\"application/json\",  # 直接产出 JSON，最稳\n",
    "        max_output_tokens=4096,\n",
    "    )\n",
    ")\n",
    "\n",
    "# 6. 获取 Gemini 分析结果\n",
    "gemini_response = model.generate_content(prompt)"
   ]
  },
  {
   "cell_type": "code",
   "execution_count": null,
   "id": "2526bb6a",
   "metadata": {},
   "outputs": [],
   "source": [
    "gemini_response_md = gemini_response.text"
   ]
  },
  {
   "cell_type": "code",
   "execution_count": null,
   "id": "da8c8341",
   "metadata": {},
   "outputs": [],
   "source": [
    "# 7. （可选）将 Gemini 分析结果写入本地文件\n",
    "with open(\"redmine_gemini_analysis.txt\", \"w\") as f:\n",
    "    f.write(gemini_response_md)"
   ]
  },
  {
   "cell_type": "code",
   "execution_count": null,
   "id": "bc20410c",
   "metadata": {},
   "outputs": [],
   "source": [
    "write_to_comment(1, REDMINE_API_KEY, baseUrl, gemini_response_md)"
   ]
  },
  {
   "cell_type": "code",
   "execution_count": null,
   "id": "9f14f727",
   "metadata": {},
   "outputs": [],
   "source": [
    "info = upsert_wiki_page(\n",
    "    base_url=baseUrl,\n",
    "    project_identifier=REDMINE_PROJECT_ID,   # 例如 \"testproject-redmine\"\n",
    "    title=\"AI_Report\",\n",
    "    text=gemini_response_md,\n",
    "    api_key=REDMINE_API_KEY,\n",
    "    comment=\"自动更新的 AI 项目分析报告\"\n",
    ")\n",
    "print(info)"
   ]
  }
 ],
 "metadata": {
  "kernelspec": {
   "display_name": "py39",
   "language": "python",
   "name": "python3"
  },
  "language_info": {
   "codemirror_mode": {
    "name": "ipython",
    "version": 3
   },
   "file_extension": ".py",
   "mimetype": "text/x-python",
   "name": "python",
   "nbconvert_exporter": "python",
   "pygments_lexer": "ipython3",
   "version": "3.9.24"
  }
 },
 "nbformat": 4,
 "nbformat_minor": 5
}
