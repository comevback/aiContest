{
 "cells": [
  {
   "cell_type": "code",
   "execution_count": null,
   "id": "72da6b8f",
   "metadata": {},
   "outputs": [],
   "source": [
    "import requests\n",
    "import json\n",
    "\n",
    "f = open(\"redmine_info.txt\", \"w\")\n",
    "url = \"http://localhost:3000/issues.json?project_id=testproject-redmine\"\n",
    "headers = {\n",
    "    \"X-Redmine-API-Key\": \"00b97c8f09f4e8498c720f0043b79930ef9c2823\"\n",
    "}\n",
    "\n",
    "# response = requests.get(url, headers=headers)\n",
    "\n",
    "# data = json.loads(response.text)\n",
    "# print(json.dumps(data, indent=2, ensure_ascii=False))\n",
    "# f.write(json.dumps(data, indent=2, ensure_ascii=False))\n",
    "# f.close()"
   ]
  },
  {
   "cell_type": "code",
   "execution_count": null,
   "id": "f10f86fe",
   "metadata": {},
   "outputs": [],
   "source": [
    "# 1. 拉取 Redmine 工单\n",
    "def redmine_get_issues(api_key, project_id, url_base=\"http://localhost:3000\"):\n",
    "    url = f\"{url_base}/issues.json?project_id={project_id}\"\n",
    "    headers = {\"X-Redmine-API-Key\": api_key}\n",
    "    resp = requests.get(url, headers=headers)\n",
    "    resp.raise_for_status()\n",
    "    return resp.json()[\"issues\"]\n",
    "\n",
    "# 2. 格式化工单列表为字符串\n",
    "def format_redmine_issues_to_str(issues):\n",
    "    lines = []\n",
    "    for i in issues:\n",
    "        subject = i.get(\"subject\", \"无标题\")\n",
    "        status = i.get(\"status\", {}).get(\"name\", \"未知状态\")\n",
    "        priority = i.get(\"priority\", {}).get(\"name\", \"无优先级\")\n",
    "        assignee = (i.get(\"assigned_to\") or {}).get(\"name\", \"未分配\")\n",
    "        author = (i.get(\"author\") or {}).get(\"name\", \"未知作者\")\n",
    "        start_date = i.get(\"start_date\", \"无开始日期\")\n",
    "        due_date = i.get(\"due_date\", \"无截止日期\")\n",
    "        created_on = i.get(\"created_on\", \"未知创建时间\")\n",
    "        updated_on = i.get(\"updated_on\", \"未知更新时间\")\n",
    "        desc = i.get(\"description\", \"无描述\")\n",
    "        lines.append(\n",
    "            f\"{subject} | 状态: {status} | 优先级: {priority} | 负责人: {assignee} | 作者: {author} | 开始: {start_date} | 截止: {due_date} | 创建: {created_on} | 更新: {updated_on} | 描述: {desc[:20]}...\"\n",
    "        )\n",
    "    return \"\\n\".join(lines)"
   ]
  },
  {
   "cell_type": "code",
   "execution_count": null,
   "id": "bf72dc40",
   "metadata": {},
   "outputs": [],
   "source": [
    "# 3. 获取 Redmine 工单并格式化\n",
    "REDMINE_API_KEY = \"00b97c8f09f4e8498c720f0043b79930ef9c2823\"\n",
    "REDMINE_PROJECT_ID = \"testproject-redmine\"\n",
    "\n",
    "issues = redmine_get_issues(REDMINE_API_KEY, REDMINE_PROJECT_ID)\n",
    "issues_str = format_redmine_issues_to_str(issues)\n",
    "print(\"Formatted Redmine issues:\")\n",
    "print(issues_str)"
   ]
  },
  {
   "cell_type": "code",
   "execution_count": null,
   "id": "884b8844",
   "metadata": {},
   "outputs": [],
   "source": [
    "# 5. 调用 Gemini 做 Redmine 工单分析\n",
    "from google import genai\n",
    "from google.genai import types as gt\n",
    "import os\n",
    "\n",
    "# 假设你已设置好 GEMINI_API_KEY 环境变量\n",
    "GEMINI_API_KEY = os.getenv(\"GEMINI_API_KEY\")\n",
    "client = genai.Client(api_key=GEMINI_API_KEY)\n",
    "\n",
    "prompt = (\n",
    "    \"你是资深项目管理顾问，请根据以下 Redmine 工单列表，分析风险并提出对策：\\n\\n\"\n",
    "    + issues_str\n",
    ")\n",
    "\n",
    "print(\"\\n=== Prompt to Gemini ===\")\n",
    "print(prompt)\n",
    "\n",
    "resp = client.models.generate_content(\n",
    "    model=\"gemini-2.5-flash\",\n",
    "    contents=prompt,\n",
    "    config=gt.GenerateContentConfig(temperature=0.3)\n",
    "    )\n",
    "\n",
    "# 6. 获取 Gemini 分析结果\n",
    "gemini_response = resp.text\n",
    "print(\"=== AI 分析结果 ===\")\n",
    "print(gemini_response)"
   ]
  },
  {
   "cell_type": "code",
   "execution_count": null,
   "id": "da8c8341",
   "metadata": {},
   "outputs": [],
   "source": [
    "# 7. （可选）将 Gemini 分析结果写入本地文件\n",
    "with open(\"redmine_gemini_analysis.txt\", \"w\") as f:\n",
    "    f.write(gemini_response)"
   ]
  },
  {
   "cell_type": "code",
   "execution_count": null,
   "id": "bc20410c",
   "metadata": {},
   "outputs": [],
   "source": [
    "issue_id = 1  # 替换为你的工单ID\n",
    "api_key = \"00b97c8f09f4e8498c720f0043b79930ef9c2823\"\n",
    "redmine_url = \"http://localhost:3000\"\n",
    "comment = \"这里是AI分析建议内容\" + gemini_response\n",
    "\n",
    "url = f\"{redmine_url}/issues/{issue_id}.json\"\n",
    "headers = {\n",
    "    \"X-Redmine-API-Key\": api_key,\n",
    "    \"Content-Type\": \"application/json; charset=utf-8\"\n",
    "}\n",
    "data = {\n",
    "    \"issue\": {\n",
    "        \"notes\": comment\n",
    "    }\n",
    "}\n",
    "\n",
    "response = requests.put(\n",
    "    url,\n",
    "    data=json.dumps(data, ensure_ascii=False).encode(\"utf-8\"),\n",
    "    headers=headers\n",
    ")\n",
    "print(response.status_code)\n",
    "if response.headers.get(\"Content-Type\", \"\").startswith(\"application/json\"):\n",
    "    print(response.json())\n",
    "else:\n",
    "    print(\"不是JSON，原始内容如上\")"
   ]
  }
 ],
 "metadata": {
  "kernelspec": {
   "display_name": "aicontest",
   "language": "python",
   "name": "python3"
  },
  "language_info": {
   "codemirror_mode": {
    "name": "ipython",
    "version": 3
   },
   "file_extension": ".py",
   "mimetype": "text/x-python",
   "name": "python",
   "nbconvert_exporter": "python",
   "pygments_lexer": "ipython3",
   "version": "3.9.23"
  }
 },
 "nbformat": 4,
 "nbformat_minor": 5
}
