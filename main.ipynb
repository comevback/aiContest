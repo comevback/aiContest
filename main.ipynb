{
 "cells": [
  {
   "cell_type": "code",
   "execution_count": null,
   "metadata": {},
   "outputs": [],
   "source": [
    "from dotenv import load_dotenv\n",
    "import os\n",
    "from google import genai\n",
    "from google.genai import types as gt\n",
    "import requests"
   ]
  },
  {
   "cell_type": "code",
   "execution_count": null,
   "metadata": {},
   "outputs": [],
   "source": [
    "# 读取 .env\n",
    "load_dotenv()\n",
    "\n",
    "GEMINI_API_KEY = os.getenv(\"GEMINI_API_KEY\")\n",
    "JIRA_TOKEN = os.getenv(\"JIRA_TOKEN\")\n",
    "JIRA_USER = os.getenv(\"JIRA_USER\")\n",
    "JIRA_HOST = os.getenv(\"JIRA_HOST\")\n",
    "PROJECT_KEY = os.getenv(\"PROJECT_KEY\")\n",
    "\n",
    "# 初始化 Gemini Client\n",
    "client = genai.Client(api_key=GEMINI_API_KEY)"
   ]
  },
  {
   "cell_type": "code",
   "execution_count": null,
   "metadata": {},
   "outputs": [],
   "source": [
    "# 获取最近更新的 Jira 任务\n",
    "def jira_get(path, params=None):\n",
    "    url = f\"{JIRA_HOST}{path}\"\n",
    "    r = requests.get(url, params=params, auth=(JIRA_USER, JIRA_TOKEN))\n",
    "    r.raise_for_status()\n",
    "    return r.json()"
   ]
  },
  {
   "cell_type": "code",
   "execution_count": null,
   "metadata": {},
   "outputs": [],
   "source": [
    "# 1. 从 Jira 拉取任务\n",
    "issues = jira_get(\"/rest/api/3/search\", params={\n",
    "    \"jql\": f\"project={PROJECT_KEY} ORDER BY updated DESC\",\n",
    "    \"maxResults\": 10,\n",
    "    \"fields\": \"summary,status,assignee,duedate,priority,created,updated\"\n",
    "})[\"issues\"]"
   ]
  },
  {
   "cell_type": "code",
   "execution_count": null,
   "metadata": {},
   "outputs": [],
   "source": [
    "# 2. 格式化任务列表为字符串\n",
    "def format_issues_to_str(issues):\n",
    "    \"\"\"\n",
    "    将 Jira issues 转换成字符串，便于交给 AI 分析\n",
    "    \"\"\"\n",
    "    lines = []\n",
    "    for i in issues:\n",
    "        f = i[\"fields\"]\n",
    "\n",
    "        key = i.get(\"key\", \"N/A\")\n",
    "        summary = f.get(\"summary\", \"无标题\")\n",
    "        status = f.get(\"status\", {}).get(\"name\", \"未知状态\")\n",
    "        assignee = (f.get(\"assignee\") or {}).get(\"displayName\", \"未分配\")\n",
    "        duedate = f.get(\"duedate\", \"无截止日期\")\n",
    "        priority = (f.get(\"priority\") or {}).get(\"name\", \"无优先级\")\n",
    "        created = f.get(\"created\", \"未知时间\")\n",
    "        updated = f.get(\"updated\", \"未知时间\")\n",
    "        labels = \", \".join(f.get(\"labels\", [])) or \"无标签\"\n",
    "        parent = (f.get(\"parent\") or {}).get(\"key\", \"无父任务\")\n",
    "\n",
    "        lines.append(\n",
    "            f\"{key} | {summary} | 状态: {status} | 优先级: {priority} | 负责人: {assignee} | 截止: {duedate} | 创建: {created} | 更新: {updated} | 标签: {labels} | 父任务: {parent}\"\n",
    "        )\n",
    "\n",
    "    return \"\\n\".join(lines)\n",
    "issues_str = format_issues_to_str(issues)\n",
    "print(\"Formatted issues:\")\n",
    "print(issues_str)"
   ]
  },
  {
   "cell_type": "code",
   "execution_count": null,
   "metadata": {},
   "outputs": [],
   "source": [
    "# 3. 调用 Gemini 做分析\n",
    "prompt = (\n",
    "    \"你是资深项目管理顾问，请根据以下 Jira 任务列表，分析风险并提出对策：\\n\\n\"\n",
    "    + issues_str\n",
    ")\n",
    "\n",
    "print(\"\\n=== Prompt to Gemini ===\")\n",
    "print(prompt)"
   ]
  },
  {
   "cell_type": "code",
   "execution_count": null,
   "metadata": {},
   "outputs": [],
   "source": [
    "resp = client.models.generate_content(\n",
    "    model=\"gemini-2.5-flash\",\n",
    "    contents=prompt,\n",
    "    config=gt.GenerateContentConfig(temperature=0.3)\n",
    ")"
   ]
  },
  {
   "cell_type": "code",
   "execution_count": null,
   "metadata": {},
   "outputs": [],
   "source": [
    "# 4. 获取 Gemini 分析结果\n",
    "gemini_response = resp.text\n",
    "print(\"=== AI 分析结果 ===\")\n",
    "print(gemini_response)"
   ]
  },
  {
   "cell_type": "code",
   "execution_count": null,
   "metadata": {},
   "outputs": [],
   "source": [
    "# 5. 定义将结果返回 Jira 的函数\n",
    "def jira_post(path, data):\n",
    "    \"\"\"通用 POST 函数\"\"\"\n",
    "    url = f\"{JIRA_HOST}{path}\"\n",
    "    r = requests.post(url, json=data, auth=(JIRA_USER, JIRA_TOKEN))\n",
    "    r.raise_for_status()\n",
    "    return r.json()\n",
    "\n",
    "def add_comment_to_jira(issue_key, comment_text):\n",
    "    \"\"\"将评论添加到指定的 Jira issue\"\"\"\n",
    "    comment_endpoint = f\"/rest/api/3/issue/{issue_key}/comment\"\n",
    "    \n",
    "    # Jira API v3 需要使用 Atlassian Document Format\n",
    "    comment_data = {\n",
    "        \"body\": {\n",
    "            \"type\": \"doc\",\n",
    "            \"version\": 1,\n",
    "            \"content\": [\n",
    "                {\n",
    "                    \"type\": \"paragraph\",\n",
    "                    \"content\": [\n",
    "                        {\n",
    "                            \"type\": \"text\",\n",
    "                            \"text\": comment_text\n",
    "                        }\n",
    "                    ]\n",
    "                }\n",
    "            ]\n",
    "        }\n",
    "    }\n",
    "    \n",
    "    try:\n",
    "        result = jira_post(comment_endpoint, comment_data)\n",
    "        print(f\"成功将评论添加到 issue {issue_key}。\")\n",
    "        return result\n",
    "    except requests.exceptions.HTTPError as e:\n",
    "        print(f\"添加到 issue {issue_key} 失败: {e}\")\n",
    "        print(f\"Response body: {e.response.text}\")\n",
    "        return None"
   ]
  },
  {
   "cell_type": "code",
   "execution_count": null,
   "metadata": {},
   "outputs": [],
   "source": [
    "# 6. 执行添加评论的操作\n",
    "# 将下面的 'BTS-6' 替换为您希望评论的真实 JIRA ISSUE KEY !!!\n",
    "issue_to_comment = \"BTS-6\"\n",
    "add_comment_to_jira(issue_to_comment, gemini_response)"
   ]
  }
 ],
 "metadata": {
  "kernelspec": {
   "display_name": "aicontest",
   "language": "python",
   "name": "python3"
  },
  "language_info": {
   "codemirror_mode": {
    "name": "ipython",
    "version": 3
   },
   "file_extension": ".py",
   "mimetype": "text/x-python",
   "name": "python",
   "nbconvert_exporter": "python",
   "pygments_lexer": "ipython3",
   "version": "3.9.23"
  }
 },
 "nbformat": 4,
 "nbformat_minor": 2
}
